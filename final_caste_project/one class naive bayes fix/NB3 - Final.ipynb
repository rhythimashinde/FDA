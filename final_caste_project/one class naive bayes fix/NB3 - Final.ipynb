{
 "cells": [
  {
   "cell_type": "code",
   "execution_count": 1,
   "metadata": {
    "collapsed": false
   },
   "outputs": [],
   "source": [
    "#FUNCTION DEFINITION\n",
    "\n",
    "import csv\n",
    "import random\n",
    "import math\n",
    "import matplotlib.pyplot as plt\n",
    "import numpy as np\n",
    "%matplotlib inline\n",
    "\n",
    "def loadCsv(filename):\n",
    "\tlines = csv.reader(open(filename, \"rb\"))\n",
    "\tdataset = list(lines)\n",
    "\tfor i in range(len(dataset)):\n",
    "\t\tdataset[i] = [float(x) for x in dataset[i]]\n",
    "\treturn dataset\n",
    "\n",
    "def splitDataset(dataset, splitRatio):\n",
    "\ttrainSize = int(len(dataset) * splitRatio)\n",
    "\ttrainSet = []\n",
    "\tcopy = list(dataset)\n",
    "\twhile len(trainSet) < trainSize:\n",
    "\t\tindex = random.randrange(len(copy))\n",
    "\t\ttrainSet.append(copy.pop(index))\n",
    "\treturn [trainSet, copy]\n",
    "\n",
    "def separateByClass(dataset):\n",
    "\tseparated = {}\n",
    "\tfor i in range(len(dataset)):\n",
    "\t\tvector = dataset[i]\n",
    "\t\tif (vector[-1] not in separated):\n",
    "\t\t\tseparated[vector[-1]] = []\n",
    "\t\tseparated[vector[-1]].append(vector)\n",
    "\treturn separated\n",
    "\n",
    "def mean(numbers):\n",
    "\treturn sum(numbers)/float(len(numbers))\n",
    "\n",
    "def stdev(numbers):\n",
    "\tavg = mean(numbers)\n",
    "\tvariance = sum([pow(x-avg,2) for x in numbers])/float(len(numbers)-1)\n",
    "\treturn math.sqrt(variance)\n",
    "\n",
    "def summarize(dataset):\n",
    "\tsummaries = [(mean(attribute), stdev(attribute)) for attribute in zip(*dataset)]\n",
    "\tdel summaries[-1]\n",
    "\treturn summaries\n",
    "\n",
    "def summarizeByClass(dataset):\n",
    "\tseparated = separateByClass(dataset)\n",
    "\tsummaries = {}\n",
    "\tfor classValue, instances in separated.iteritems():\n",
    "\t\tsummaries[classValue] = summarize(instances)\n",
    "\treturn summaries\n",
    "\n",
    "def calculateProbability(x, mean, stdev):\n",
    "\texponent = math.exp(-(math.pow(x-mean,2)/(2*math.pow(stdev,2))))\n",
    "\treturn (1 / (math.sqrt(2*math.pi) * stdev)) * exponent\n",
    "\n",
    "def calculateClassProbabilities(summaries, inputVector):\n",
    "\tprobabilities = {}\n",
    "\tfor classValue, classSummaries in summaries.iteritems():\n",
    "\t\tprobabilities[classValue] = 1\n",
    "\t\tfor i in range(len(classSummaries)):\n",
    "\t\t\tmean, stdev = classSummaries[i]\n",
    "\t\t\tx = inputVector[i]\n",
    "\t\t\tprobabilities[classValue] *= calculateProbability(x, mean, stdev)\n",
    "\treturn probabilities\n",
    "\t\t\t\n",
    "    \n",
    "def calculateClassProbability(summaries, inputVector):\n",
    "\tprobabilities = {}\n",
    "\tfor classValue, classSummaries in summaries.iteritems():\n",
    "\t\tprobabilities[classValue] = 1\n",
    "\t\tfor i in range(len(classSummaries)):\n",
    "\t\t\tmean, stdev = classSummaries[i]\n",
    "\t\t\tx = inputVector[i]\n",
    "\t\t\tprobabilities= calculateProbability(x, mean, stdev)\n",
    "\treturn probabilities\n",
    "\t\t\t\n",
    "    \n",
    "def getProbabilities(summaries, testSet):\n",
    "\tpredictions = []\n",
    "\tfor i in range(len(testSet)):\n",
    "\t\tresult = calculateClassProbability(summaries, testSet[i])\n",
    "\t\tpredictions.append(result)\n",
    "\treturn predictions\n",
    "    \n",
    "def predict(summaries, inputVector):\n",
    "\tprobabilities = calculateClassProbabilities(summaries, inputVector)\n",
    "\tbestLabel, bestProb = None, -1\n",
    "\tfor classValue, probability in probabilities.iteritems():\n",
    "\t\tif bestLabel is None or probability > bestProb:\n",
    "\t\t\tbestProb = probability\n",
    "\t\t\tbestLabel = classValue\n",
    "\treturn bestLabel\n",
    "\n",
    "def getPredictions(summaries, testSet):\n",
    "\tpredictions = []\n",
    "\tfor i in range(len(testSet)):\n",
    "\t\tresult = predict(summaries, testSet[i])\n",
    "\t\tpredictions.append(result)\n",
    "\treturn predictions\n",
    "\n",
    "def getAccuracy(testSet, predictions):\n",
    "\tcorrect = 0\n",
    "\tfor i in range(len(testSet)):\n",
    "\t\tif testSet[i][-1] == predictions[i]:\n",
    "\t\t\tcorrect += 1\n",
    "\treturn (correct/float(len(testSet))) * 100.0\n",
    "\n",
    "def calculateOutlier(testprobabilities):\n",
    "    positiveclass = []\n",
    "    for i in range(len(testprobabilities)) :\n",
    "        if testprobabilities[i] > threshold:\n",
    "            positiveclass.append(1)\n",
    "        else:\n",
    "            positiveclass.append(0)\n",
    "    positivepercentage = float(sum(positiveclass)) / len(positiveclass)\n",
    "    return positivepercentage"
   ]
  },
  {
   "cell_type": "code",
   "execution_count": null,
   "metadata": {
    "collapsed": true
   },
   "outputs": [],
   "source": [
    "################################## SCHEDULED CASTE ############################"
   ]
  },
  {
   "cell_type": "code",
   "execution_count": 14,
   "metadata": {
    "collapsed": false
   },
   "outputs": [],
   "source": [
    "# prepare model\n",
    "filenorth = 'SC_import_north_NB.csv'\n",
    "trainingSet = loadCsv(filenorth)\n",
    "\n",
    "filesouth = 'SC_import_south_NB.csv'\n",
    "testSet = loadCsv(filesouth)\n",
    "\n",
    "#summary (mean, std dev) of each attribute in the training set\n",
    "summaries = summarizeByClass(trainingSet)"
   ]
  },
  {
   "cell_type": "code",
   "execution_count": 15,
   "metadata": {
    "collapsed": false
   },
   "outputs": [
    {
     "name": "stdout",
     "output_type": "stream",
     "text": [
      "Min probability of the dataset is 0.00374818252462\n",
      "Max probability of the dataset is 6.10507183999\n",
      "Total number of samples in the dataset is 458\n"
     ]
    }
   ],
   "source": [
    "#Bayesian Probabilities of the Training Set\n",
    "initialprobabilities = getProbabilities(summaries, trainingSet)\n",
    "print \"Min probability of the dataset is %s\" %(min(initialprobabilities))\n",
    "print \"Max probability of the dataset is %s\" %(max(initialprobabilities))\n",
    "print \"Total number of samples in the dataset is %s\" %(len(initialprobabilities))"
   ]
  },
  {
   "cell_type": "code",
   "execution_count": 16,
   "metadata": {
    "collapsed": false
   },
   "outputs": [
    {
     "name": "stdout",
     "output_type": "stream",
     "text": [
      "0.00374818252462\n"
     ]
    }
   ],
   "source": [
    "#Set threshold for novelty/outlier detection as minimum value of the bayesian probabilities from the training set\n",
    "threshold = min(initialprobabilities)\n",
    "print threshold"
   ]
  },
  {
   "cell_type": "code",
   "execution_count": 17,
   "metadata": {
    "collapsed": false
   },
   "outputs": [
    {
     "data": {
      "text/plain": [
       "0.9948186528497409"
      ]
     },
     "execution_count": 17,
     "metadata": {},
     "output_type": "execute_result"
    }
   ],
   "source": [
    "#Calculate the percentage of the test set which is considered novel/outlier from the training set\n",
    "testprobabilities = getProbabilities(summaries, testSet)       \n",
    "calculateOutlier(testprobabilities)"
   ]
  },
  {
   "cell_type": "code",
   "execution_count": 6,
   "metadata": {
    "collapsed": false,
    "scrolled": true
   },
   "outputs": [
    {
     "data": {
      "image/png": "[encoded data removed]",
      "text/plain": [
       "<matplotlib.figure.Figure at 0x3578c50>"
      ]
     },
     "metadata": {},
     "output_type": "display_data"
    }
   ],
   "source": [
    "#set sensitivity test for threshold between 0-20%\n",
    "thresholdpercentage = range(0, 21)\n",
    "\n",
    "positivepercentagelist = []\n",
    "for i in thresholdpercentage:\n",
    "    threshold = np.percentile(initialprobabilities, i)  # return ith percentile\n",
    "    positivepercentage = calculateOutlier(testprobabilities) * 100\n",
    "    positivepercentagelist.append(positivepercentage)\n",
    "    \n",
    "plt.scatter(thresholdpercentage, positivepercentagelist)\n",
    "plt.xlabel('Threshold Percentile', fontsize=16)\n",
    "plt.ylabel('Positive Value Percentage', fontsize=16)\n",
    "plt.show()"
   ]
  },
  {
   "cell_type": "code",
   "execution_count": 7,
   "metadata": {
    "collapsed": true
   },
   "outputs": [],
   "source": [
    "################################## SCHEDULED TRIBE ############################"
   ]
  },
  {
   "cell_type": "code",
   "execution_count": 8,
   "metadata": {
    "collapsed": true
   },
   "outputs": [],
   "source": [
    "# prepare model\n",
    "filenorth = 'ST_import_north_NB.csv'\n",
    "trainingSet = loadCsv(filenorth)\n",
    "\n",
    "filesouth = 'ST_import_south_NB.csv'\n",
    "testSet = loadCsv(filesouth)\n",
    "\n",
    "#summary (mean, std dev) of each attribute in the training set\n",
    "summaries = summarizeByClass(trainingSet)"
   ]
  },
  {
   "cell_type": "code",
   "execution_count": 9,
   "metadata": {
    "collapsed": false
   },
   "outputs": [
    {
     "name": "stdout",
     "output_type": "stream",
     "text": [
      "Min probability of the dataset is 4.59292523789e-07\n",
      "Max probability of the dataset is 5.09520948804\n",
      "Total number of samples in the dataset is 392\n"
     ]
    }
   ],
   "source": [
    "#Bayesian Probabilities of the Training Set\n",
    "initialprobabilities = getProbabilities(summaries, trainingSet)\n",
    "print \"Min probability of the dataset is %s\" %(min(initialprobabilities))\n",
    "print \"Max probability of the dataset is %s\" %(max(initialprobabilities))\n",
    "print \"Total number of samples in the dataset is %s\" %(len(initialprobabilities))"
   ]
  },
  {
   "cell_type": "code",
   "execution_count": 10,
   "metadata": {
    "collapsed": false
   },
   "outputs": [
    {
     "name": "stdout",
     "output_type": "stream",
     "text": [
      "4.59292523789e-07\n"
     ]
    }
   ],
   "source": [
    "#Set threshold for novelty/outlier detection as minimum value of the bayesian probabilities from the training set\n",
    "threshold = min(initialprobabilities)\n",
    "print threshold"
   ]
  },
  {
   "cell_type": "code",
   "execution_count": 11,
   "metadata": {
    "collapsed": false
   },
   "outputs": [
    {
     "data": {
      "text/plain": [
       "1.0"
      ]
     },
     "execution_count": 11,
     "metadata": {},
     "output_type": "execute_result"
    }
   ],
   "source": [
    "#Calculate the percentage of the test set which is considered novel/outlier from the training set\n",
    "testprobabilities = getProbabilities(summaries, testSet)       \n",
    "calculateOutlier(testprobabilities)"
   ]
  },
  {
   "cell_type": "code",
   "execution_count": 12,
   "metadata": {
    "collapsed": false
   },
   "outputs": [
    {
     "data": {
      "image/png": "[encoded data removed]",
      "text/plain": [
       "<matplotlib.figure.Figure at 0x3578470>"
      ]
     },
     "metadata": {},
     "output_type": "display_data"
    }
   ],
   "source": [
    "#set sensitivity test for threshold between 0-20%\n",
    "thresholdpercentage = range(0, 21)\n",
    "\n",
    "positivepercentagelist = []\n",
    "for i in thresholdpercentage:\n",
    "    threshold = np.percentile(initialprobabilities, i)  # return ith percentile\n",
    "    positivepercentage = calculateOutlier(testprobabilities) * 100\n",
    "    positivepercentagelist.append(positivepercentage)\n",
    "    \n",
    "plt.scatter(thresholdpercentage, positivepercentagelist)\n",
    "plt.xlabel('Threshold Percentile', fontsize=16)\n",
    "plt.ylabel('Positive Value Percentage', fontsize=16)\n",
    "plt.show()"
   ]
  },
  {
   "cell_type": "code",
   "execution_count": null,
   "metadata": {
    "collapsed": true
   },
   "outputs": [],
   "source": []
  }
 ],
 "metadata": {
  "kernelspec": {
   "display_name": "Python 2",
   "language": "python",
   "name": "python2"
  },
  "language_info": {
   "codemirror_mode": {
    "name": "ipython",
    "version": 2
   },
   "file_extension": ".py",
   "mimetype": "text/x-python",
   "name": "python",
   "nbconvert_exporter": "python",
   "pygments_lexer": "ipython2",
   "version": "2.7.11"
  }
 },
 "nbformat": 4,
 "nbformat_minor": 0
}
