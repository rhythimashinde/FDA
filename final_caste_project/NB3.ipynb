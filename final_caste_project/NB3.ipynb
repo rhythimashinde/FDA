{
 "cells": [
  {
   "cell_type": "code",
   "execution_count": 65,
   "metadata": {
    "collapsed": false
   },
   "outputs": [
    {
     "name": "stdout",
     "output_type": "stream",
     "text": [
      "Split 768 rows into train=514 and test=254 rows\n",
      "Accuracy: 74.0157480315%\n"
     ]
    }
   ],
   "source": [
    "# Example of Naive Bayes implemented from Scratch in Python\n",
    "import csv\n",
    "import random\n",
    "import math\n",
    "import matplotlib.pyplot as plt\n",
    "\n",
    "def loadCsv(filename):\n",
    "\tlines = csv.reader(open(filename, \"rb\"))\n",
    "\tdataset = list(lines)\n",
    "\tfor i in range(len(dataset)):\n",
    "\t\tdataset[i] = [float(x) for x in dataset[i]]\n",
    "\treturn dataset\n",
    "\n",
    "def splitDataset(dataset, splitRatio):\n",
    "\ttrainSize = int(len(dataset) * splitRatio)\n",
    "\ttrainSet = []\n",
    "\tcopy = list(dataset)\n",
    "\twhile len(trainSet) < trainSize:\n",
    "\t\tindex = random.randrange(len(copy))\n",
    "\t\ttrainSet.append(copy.pop(index))\n",
    "\treturn [trainSet, copy]\n",
    "\n",
    "def separateByClass(dataset):\n",
    "\tseparated = {}\n",
    "\tfor i in range(len(dataset)):\n",
    "\t\tvector = dataset[i]\n",
    "\t\tif (vector[-1] not in separated):\n",
    "\t\t\tseparated[vector[-1]] = []\n",
    "\t\tseparated[vector[-1]].append(vector)\n",
    "\treturn separated\n",
    "\n",
    "def mean(numbers):\n",
    "\treturn sum(numbers)/float(len(numbers))\n",
    "\n",
    "def stdev(numbers):\n",
    "\tavg = mean(numbers)\n",
    "\tvariance = sum([pow(x-avg,2) for x in numbers])/float(len(numbers)-1)\n",
    "\treturn math.sqrt(variance)\n",
    "\n",
    "def summarize(dataset):\n",
    "\tsummaries = [(mean(attribute), stdev(attribute)) for attribute in zip(*dataset)]\n",
    "\tdel summaries[-1]\n",
    "\treturn summaries\n",
    "\n",
    "def summarizeByClass(dataset):\n",
    "\tseparated = separateByClass(dataset)\n",
    "\tsummaries = {}\n",
    "\tfor classValue, instances in separated.iteritems():\n",
    "\t\tsummaries[classValue] = summarize(instances)\n",
    "\treturn summaries\n",
    "\n",
    "def calculateProbability(x, mean, stdev):\n",
    "\texponent = math.exp(-(math.pow(x-mean,2)/(2*math.pow(stdev,2))))\n",
    "\treturn (1 / (math.sqrt(2*math.pi) * stdev)) * exponent\n",
    "\n",
    "def calculateClassProbabilities(summaries, inputVector):\n",
    "\tprobabilities = {}\n",
    "\tfor classValue, classSummaries in summaries.iteritems():\n",
    "\t\tprobabilities[classValue] = 1\n",
    "\t\tfor i in range(len(classSummaries)):\n",
    "\t\t\tmean, stdev = classSummaries[i]\n",
    "\t\t\tx = inputVector[i]\n",
    "\t\t\tprobabilities[classValue] *= calculateProbability(x, mean, stdev)\n",
    "\treturn probabilities\n",
    "\t\t\t\n",
    "def predict(summaries, inputVector):\n",
    "\tprobabilities = calculateClassProbabilities(summaries, inputVector)\n",
    "\tbestLabel, bestProb = None, -1\n",
    "\tfor classValue, probability in probabilities.iteritems():\n",
    "\t\tif bestLabel is None or probability > bestProb:\n",
    "\t\t\tbestProb = probability\n",
    "\t\t\tbestLabel = classValue\n",
    "\treturn bestLabel\n",
    "\n",
    "def getPredictions(summaries, testSet):\n",
    "\tpredictions = []\n",
    "\tfor i in range(len(testSet)):\n",
    "\t\tresult = predict(summaries, testSet[i])\n",
    "\t\tpredictions.append(result)\n",
    "\treturn predictions\n",
    "\n",
    "def getAccuracy(testSet, predictions):\n",
    "\tcorrect = 0\n",
    "\tfor i in range(len(testSet)):\n",
    "\t\tif testSet[i][-1] == predictions[i]:\n",
    "\t\t\tcorrect += 1\n",
    "\treturn (correct/float(len(testSet))) * 100.0\n",
    "\n",
    "def main():\n",
    "    filename = 'pima-indians-diabetes-data.csv'\n",
    "    splitRatio = 0.67\n",
    "    dataset = loadCsv(filename)\n",
    "    trainingSet, testSet = splitDataset(dataset, splitRatio)\n",
    "    print('Split {0} rows into train={1} and test={2} rows').format(len(dataset), len(trainingSet), len(testSet))\n",
    "    # prepare model\n",
    "    summaries = summarizeByClass(trainingSet)\n",
    "    # test model\n",
    "    predictions = getPredictions(summaries, testSet)\n",
    "    accuracy = getAccuracy(testSet, predictions)\n",
    "    print('Accuracy: {0}%').format(accuracy) \n",
    "    \n",
    "main()\n"
   ]
  },
  {
   "cell_type": "code",
   "execution_count": 70,
   "metadata": {
    "collapsed": false
   },
   "outputs": [
    {
     "name": "stdout",
     "output_type": "stream",
     "text": [
      "Split 768 rows into train=514 and test=254 rows\n",
      "Accuracy: 73.6220472441%\n",
      "[{0.0: 2.778134757427176e-13, 1.0: 7.565553077138689e-13}, {0.0: 1.079036984224474e-14, 1.0: 7.025272975348757e-14}, {0.0: 2.674090033087424e-12, 1.0: 6.299452050763295e-14}, {0.0: 6.549185366955833e-17, 1.0: 1.0140841758737226e-15}, {0.0: 8.356362769942293e-21, 1.0: 1.2118457318337072e-16}, {0.0: 1.5239931984501297e-14, 1.0: 2.311182103131133e-13}, {0.0: 5.113719745790031e-14, 1.0: 4.1998072759586635e-14}, {0.0: 1.8338588894387962e-13, 1.0: 9.886247867824941e-14}, {0.0: 1.110899881645214e-15, 1.0: 8.191217477543102e-14}, {0.0: 6.131628329374151e-13, 1.0: 2.752460431898608e-13}, {0.0: 5.1012423271643476e-15, 1.0: 1.0687990227072784e-13}, {0.0: 3.924620741797153e-13, 1.0: 5.093429403513013e-13}, {0.0: 2.6540090030204473e-12, 1.0: 7.488025626655367e-14}, {0.0: 9.109219960308435e-16, 1.0: 7.98718782457069e-15}, {0.0: 9.641483026115555e-13, 1.0: 4.1170991124122323e-13}, {0.0: 2.751892682160192e-13, 1.0: 1.392823902514703e-13}, {0.0: 6.832269097037905e-14, 1.0: 4.698426829163406e-13}, {0.0: 2.2735691024036356e-13, 1.0: 1.1748178316775831e-14}, {0.0: 4.081250998012683e-13, 1.0: 1.6043466978617041e-13}, {0.0: 7.789492894458472e-14, 1.0: 2.2410858578956998e-13}, {0.0: 2.481817111143745e-13, 1.0: 2.2531822381601006e-13}, {0.0: 8.336852338417406e-13, 1.0: 3.3583570870998274e-13}, {0.0: 1.4928998710697886e-12, 1.0: 4.824024576432443e-13}, {0.0: 2.7914324986175774e-12, 1.0: 1.0691818974144642e-13}, {0.0: 1.69711826257117e-16, 1.0: 2.7820189907914568e-14}, {0.0: 4.401166031308381e-13, 1.0: 4.8332045776718045e-15}, {0.0: 2.723574950983677e-13, 1.0: 6.62965883700224e-14}, {0.0: 5.657684970651582e-13, 1.0: 4.868392887059583e-13}, {0.0: 1.0297446426211395e-12, 1.0: 3.647643225304677e-13}, {0.0: 1.0869967260609129e-12, 1.0: 3.5831164561120273e-13}, {0.0: 4.669489860578757e-12, 1.0: 3.676334273124382e-13}, {0.0: 2.2659319598610788e-14, 1.0: 4.4534432921342e-14}, {0.0: 1.4841471493493908e-12, 1.0: 7.424941222225e-13}, {0.0: 1.213378240283548e-15, 1.0: 2.996401162841917e-14}, {0.0: 2.93931917064055e-13, 1.0: 3.2888593657326474e-13}, {0.0: 1.571445173793707e-16, 1.0: 1.2687684742250875e-18}, {0.0: 2.2141072874992953e-13, 1.0: 2.0063346193475643e-14}, {0.0: 2.564456041871595e-12, 1.0: 3.4102687613322944e-13}, {0.0: 5.07744301418164e-12, 1.0: 2.0966620140475739e-13}, {0.0: 8.328172510234239e-13, 1.0: 3.900535201167901e-14}, {0.0: 5.429016170133526e-20, 1.0: 5.79639745062431e-21}, {0.0: 4.269238717293702e-12, 1.0: 7.802352780290884e-13}, {0.0: 3.962732340698618e-12, 1.0: 1.5876644346268401e-12}, {0.0: 2.6856485794864778e-12, 1.0: 1.0944247643450675e-13}, {0.0: 4.2244577114168234e-13, 1.0: 4.4944164893040795e-15}, {0.0: 3.652578798529335e-15, 1.0: 2.4653612802396178e-14}, {0.0: 5.032578507383765e-15, 1.0: 1.0364263845778094e-13}, {0.0: 1.7943135941417766e-13, 1.0: 1.7641763444854687e-14}, {0.0: 9.89086431145351e-13, 1.0: 2.657552119823636e-13}, {0.0: 8.118699277285866e-15, 1.0: 2.0916954108833957e-15}, {0.0: 1.8454910712211035e-17, 1.0: 1.571968339080381e-14}, {0.0: 1.7223688709428922e-13, 1.0: 9.408898401009296e-13}, {0.0: 3.140079893089452e-12, 1.0: 7.648143751449499e-14}, {0.0: 1.6914193908057646e-12, 1.0: 3.0243752364940294e-13}, {0.0: 2.3372232763495366e-12, 1.0: 3.074145887183257e-13}, {0.0: 5.828622060129038e-13, 1.0: 1.9684265991732016e-13}, {0.0: 2.792835480904577e-12, 1.0: 7.558804553935466e-13}, {0.0: 1.0335472019155857e-13, 1.0: 1.4358995118974885e-13}, {0.0: 4.189333075184425e-12, 1.0: 2.9454406544086396e-13}, {0.0: 9.488642110438068e-14, 1.0: 2.7793111714225073e-13}, {0.0: 2.3863108802221152e-14, 1.0: 7.197155096222037e-14}, {0.0: 2.507274628341666e-16, 1.0: 2.4930600702939823e-14}, {0.0: 1.3486547604838858e-12, 1.0: 1.4599245655053477e-13}, {0.0: 4.147395700114328e-12, 1.0: 1.001262252295717e-13}, {0.0: 4.905970757472422e-13, 1.0: 2.666586698730649e-13}, {0.0: 2.442849016482992e-12, 1.0: 5.747626814875901e-13}, {0.0: 2.9621343480040557e-12, 1.0: 2.181489939819513e-12}, {0.0: 1.472526464165864e-13, 1.0: 2.5508112734381637e-14}, {0.0: 1.4963712799813132e-14, 1.0: 3.9485457503396014e-13}, {0.0: 1.0457292231568875e-12, 1.0: 1.1508252474685748e-13}, {0.0: 1.7601198483242473e-13, 1.0: 4.669125192285099e-13}, {0.0: 6.110409783732411e-15, 1.0: 3.064506018613674e-13}, {0.0: 5.764654122109318e-15, 1.0: 5.961036304320061e-14}, {0.0: 6.719464036391186e-14, 1.0: 5.300251141436368e-13}, {0.0: 9.34652304453202e-13, 1.0: 2.5117279005742808e-14}, {0.0: 3.435323835822514e-12, 1.0: 1.5090428024112752e-13}, {0.0: 7.036530863902371e-14, 1.0: 2.6649639960666827e-13}, {0.0: 1.9925567760504616e-13, 1.0: 1.7663233133179113e-13}, {0.0: 4.507455612011162e-12, 1.0: 3.0310089244480124e-13}, {0.0: 5.1005933907497615e-17, 1.0: 2.42162820423915e-14}, {0.0: 3.715787172224622e-12, 1.0: 1.6439827646524415e-13}, {0.0: 9.288721955740092e-16, 1.0: 2.6911627321949376e-14}, {0.0: 4.982027600405539e-13, 1.0: 4.394136005906468e-13}, {0.0: 4.661405806896154e-12, 1.0: 1.589599631637023e-12}, {0.0: 1.2994337639847495e-13, 1.0: 6.488789174489956e-14}, {0.0: 1.3026944505758209e-18, 1.0: 1.7720897759003788e-15}, {0.0: 1.662433254290089e-12, 1.0: 3.609988549128267e-14}, {0.0: 6.317937745774645e-15, 1.0: 2.944887209041172e-13}, {0.0: 4.863627289218666e-13, 1.0: 8.450748997717134e-13}, {0.0: 5.615140925040122e-24, 1.0: 2.3753149931173346e-18}, {0.0: 2.3953175271510643e-12, 1.0: 2.5437266407694853e-13}, {0.0: 3.0268361128468357e-12, 1.0: 4.4571956193039703e-13}, {0.0: 5.913314408319165e-14, 1.0: 4.09538501191807e-13}, {0.0: 3.798144553271469e-12, 1.0: 2.9074163445728853e-13}, {0.0: 3.985669193322895e-16, 1.0: 2.3473054711829635e-15}, {0.0: 2.338387583576935e-12, 1.0: 8.846594027350102e-14}, {0.0: 2.1123943558968605e-13, 1.0: 9.837049195451824e-15}, {0.0: 2.881474051020132e-13, 1.0: 7.142658351988481e-13}, {0.0: 9.176917805988113e-13, 1.0: 1.092988444248074e-12}, {0.0: 5.390351465040485e-13, 1.0: 6.920610989781186e-14}, {0.0: 1.0474883236308145e-14, 1.0: 1.4887889064403587e-13}, {0.0: 7.027994880981638e-13, 1.0: 1.5413527139075337e-12}, {0.0: 1.9422502160948414e-14, 1.0: 1.0484969547210974e-13}, {0.0: 7.305301355043599e-13, 1.0: 3.0963076017022203e-13}, {0.0: 5.670309253961799e-13, 1.0: 7.840062599156193e-14}, {0.0: 1.5301132048400976e-12, 1.0: 7.308345339711065e-13}, {0.0: 5.631820322374127e-15, 1.0: 1.106272393426589e-13}, {0.0: 2.960187995263264e-12, 1.0: 5.250502207679324e-13}, {0.0: 3.3210333874413715e-12, 1.0: 1.209138869808919e-13}, {0.0: 2.9519868121705204e-12, 1.0: 5.6343276208950693e-14}, {0.0: 1.0422764644353891e-16, 1.0: 1.6499885849045284e-15}, {0.0: 1.7843971654615272e-12, 1.0: 4.255410232924424e-13}, {0.0: 4.261427154224378e-14, 1.0: 6.290190632150341e-13}, {0.0: 1.2084208628443357e-14, 1.0: 2.190510868884087e-13}, {0.0: 1.7814868757174121e-16, 1.0: 1.727522999550777e-17}, {0.0: 5.565491111278373e-13, 1.0: 9.528347385976185e-14}, {0.0: 3.710106185723677e-12, 1.0: 1.050666343033667e-13}, {0.0: 4.0843286359019905e-13, 1.0: 5.1008107565852826e-14}, {0.0: 3.0330821687790016e-18, 1.0: 1.0290526175616782e-15}, {0.0: 1.4525127151444266e-14, 1.0: 2.7612147466192164e-14}, {0.0: 4.898918878791475e-12, 1.0: 6.834694497238916e-13}, {0.0: 4.440655432472744e-25, 1.0: 1.687922959829642e-18}, {0.0: 5.660860448008021e-20, 1.0: 2.0611038286223264e-19}, {0.0: 1.8814886911505814e-12, 1.0: 8.3789118324041e-14}, {0.0: 2.66828066032778e-17, 1.0: 6.624146983326977e-15}, {0.0: 2.169030691165031e-12, 1.0: 6.38451096672202e-14}, {0.0: 3.185203303644168e-14, 1.0: 1.4888544437427307e-13}, {0.0: 1.1391682258035673e-14, 1.0: 3.1449547896330885e-14}, {0.0: 3.6283709615583844e-13, 1.0: 6.337176984085974e-14}, {0.0: 4.304345098399636e-12, 1.0: 1.3646150647851491e-12}, {0.0: 2.5811614065328846e-14, 1.0: 7.710017990665207e-14}, {0.0: 4.755749449348512e-15, 1.0: 1.1958602737642235e-14}, {0.0: 2.2289302450491475e-16, 1.0: 8.575867415201208e-15}, {0.0: 1.4138233309467576e-20, 1.0: 2.6477433095384265e-16}, {0.0: 2.1320194872040493e-17, 1.0: 6.912297803033471e-15}, {0.0: 1.0072828881616427e-13, 1.0: 1.4797882804579006e-13}, {0.0: 4.822381916796601e-12, 1.0: 1.2791283552244741e-13}, {0.0: 5.643301202177374e-12, 1.0: 3.6663164815416546e-13}, {0.0: 4.3984401113908816e-14, 1.0: 6.978471288935172e-13}, {0.0: 1.3199388036292602e-19, 1.0: 2.5692252854598657e-20}, {0.0: 1.0782910749698756e-12, 1.0: 2.640243836268583e-13}, {0.0: 1.6068828585015774e-13, 1.0: 3.412833341160338e-14}, {0.0: 6.38235755468052e-13, 1.0: 8.888288067785425e-14}, {0.0: 2.1028036523530873e-12, 1.0: 1.7851138419422045e-13}, {0.0: 4.6412148237930156e-12, 1.0: 4.4569732232653896e-13}, {0.0: 4.5465158311116955e-13, 1.0: 9.619139290131047e-14}, {0.0: 2.7641494169914956e-12, 1.0: 3.426306745805726e-13}, {0.0: 3.315687188228787e-14, 1.0: 1.9923852778582135e-14}, {0.0: 2.2144356555416515e-16, 1.0: 3.8452497822049844e-14}, {0.0: 1.9127496538410633e-13, 1.0: 1.2072482603364222e-13}, {0.0: 2.744871998375648e-16, 1.0: 2.444256684390176e-15}, {0.0: 2.3223179908162e-13, 1.0: 4.162896481452994e-13}, {0.0: 5.269473048339662e-13, 1.0: 2.543989953384032e-13}, {0.0: 5.946963667007376e-12, 1.0: 2.3295719242856983e-13}, {0.0: 4.804185135388651e-17, 1.0: 1.5999983408047437e-15}, {0.0: 2.43669852406946e-12, 1.0: 1.685729986489395e-13}, {0.0: 2.4211482019686275e-12, 1.0: 2.8717588114400016e-13}, {0.0: 9.147250121195893e-16, 1.0: 2.4626606041170395e-14}, {0.0: 6.778113161634628e-17, 1.0: 1.3007708922482028e-17}, {0.0: 1.2443472218507472e-12, 1.0: 2.662707064842814e-13}, {0.0: 7.637279526019745e-14, 1.0: 2.1593118897342024e-14}, {0.0: 2.5830966080879506e-14, 1.0: 5.149511001266828e-15}, {0.0: 3.3563528269160887e-12, 1.0: 1.155852686440995e-13}, {0.0: 1.0293994533550003e-12, 1.0: 1.5913562234342246e-14}, {0.0: 1.6934089047545843e-19, 1.0: 1.0810273068219046e-19}, {0.0: 1.9002854150456548e-13, 1.0: 3.72945949085083e-13}, {0.0: 7.159577900014156e-16, 1.0: 3.162096121049153e-15}, {0.0: 1.854221873442051e-13, 1.0: 2.2907479548109106e-13}, {0.0: 7.967178825675648e-13, 1.0: 9.664686079673633e-14}, {0.0: 4.145155467792065e-12, 1.0: 2.26878846585115e-13}, {0.0: 2.88230280782949e-12, 1.0: 1.070204740844471e-12}, {0.0: 2.0385436577245287e-15, 1.0: 8.240636031031564e-14}, {0.0: 2.8201170275606456e-12, 1.0: 1.4835949272056002e-13}, {0.0: 3.915731588001138e-12, 1.0: 2.1729591148453263e-13}, {0.0: 1.9565699191317743e-12, 1.0: 1.3697020544540226e-13}, {0.0: 1.1020608535535973e-12, 1.0: 7.405069471793048e-14}, {0.0: 2.1682142684292897e-12, 1.0: 1.0033605650496623e-13}, {0.0: 8.350906663800607e-13, 1.0: 1.7993543551664733e-13}, {0.0: 1.5385397935285615e-12, 1.0: 1.8759742500401002e-12}, {0.0: 1.804982274556223e-12, 1.0: 5.757435943128899e-13}, {0.0: 1.3603846546461808e-12, 1.0: 7.364872113660539e-14}, {0.0: 1.1062251307077834e-14, 1.0: 8.608743729853435e-14}, {0.0: 3.664302726759367e-13, 1.0: 1.14421180821161e-13}, {0.0: 3.113972470487943e-13, 1.0: 1.2541971014470284e-13}, {0.0: 1.0766662902707434e-21, 1.0: 9.801767043429236e-19}, {0.0: 2.8279005910223516e-12, 1.0: 2.109312352194651e-13}, {0.0: 3.5331626578430566e-15, 1.0: 7.73011077681949e-15}, {0.0: 2.775321604951743e-13, 1.0: 1.3988459093881526e-13}, {0.0: 2.733577826758076e-16, 1.0: 1.4516669202977644e-15}, {0.0: 4.4672203675054676e-14, 1.0: 1.7272803217441373e-13}, {0.0: 4.4260845542174165e-16, 1.0: 4.530495828738497e-16}, {0.0: 1.968247064092281e-12, 1.0: 3.580558668300605e-13}, {0.0: 1.5427427219890632e-14, 1.0: 1.2381230066959457e-13}, {0.0: 1.4614477902089207e-13, 1.0: 9.840132542088018e-13}, {0.0: 1.1916965171830365e-12, 1.0: 4.00116450700581e-13}, {0.0: 3.450802281609758e-14, 1.0: 3.329402066117558e-13}, {0.0: 2.417810340899174e-12, 1.0: 1.0817767146850252e-13}, {0.0: 4.712550327490995e-13, 1.0: 1.3387201660334705e-13}, {0.0: 7.034020436861295e-18, 1.0: 8.907160427138484e-15}, {0.0: 5.676913637383734e-13, 1.0: 7.617512967891551e-14}, {0.0: 6.188885735231512e-13, 1.0: 3.737334456792657e-13}, {0.0: 2.477168796058999e-12, 1.0: 5.7211144085258e-14}, {0.0: 1.0798553405555922e-12, 1.0: 3.026812116397643e-13}, {0.0: 1.2010653068043748e-12, 1.0: 1.2774423841459604e-13}, {0.0: 9.409575027947135e-13, 1.0: 1.686264856805064e-13}, {0.0: 2.216646555260998e-14, 1.0: 3.6709427116214867e-14}, {0.0: 8.178349018276654e-13, 1.0: 1.195282160049995e-13}, {0.0: 1.483110614099385e-12, 1.0: 3.474795325117803e-14}, {0.0: 1.6681654432976224e-13, 1.0: 2.039587954412382e-13}, {0.0: 1.624374609113406e-14, 1.0: 1.0839168837864271e-13}, {0.0: 5.1944766212675124e-14, 1.0: 2.0566476746095236e-13}, {0.0: 2.1774993219947203e-12, 1.0: 5.4725070365860613e-14}, {0.0: 2.1695679879705475e-12, 1.0: 1.8885019460115912e-13}, {0.0: 1.2519735005787633e-12, 1.0: 3.6782518236826e-14}, {0.0: 1.4442522936970567e-12, 1.0: 5.667476420551813e-13}, {0.0: 7.306386954957939e-13, 1.0: 1.5784637422494957e-13}, {0.0: 1.1007025645559288e-14, 1.0: 1.437360678893564e-14}, {0.0: 3.4072518685340437e-13, 1.0: 1.669306862467237e-13}, {0.0: 1.044071098282986e-12, 1.0: 4.620580570341792e-13}, {0.0: 2.364059904229111e-12, 1.0: 6.543517385737551e-14}, {0.0: 7.364752557493947e-15, 1.0: 8.191433367752928e-15}, {0.0: 6.60832424157726e-17, 1.0: 2.7289125981547154e-15}, {0.0: 4.496017666232639e-15, 1.0: 2.870206704549527e-15}, {0.0: 1.1877951100357417e-14, 1.0: 1.1910161033335156e-13}, {0.0: 1.0482129499451372e-14, 1.0: 3.714917503180499e-14}, {0.0: 1.0037857673363024e-12, 1.0: 5.440103256937931e-14}, {0.0: 9.960813453240082e-15, 1.0: 6.495688915918607e-14}, {0.0: 2.346089896438851e-12, 1.0: 5.328207106242725e-13}, {0.0: 2.1487995761894946e-18, 1.0: 5.956893166052774e-19}, {0.0: 2.7303483197837516e-12, 1.0: 1.7515717745863631e-13}, {0.0: 2.698957634701232e-13, 1.0: 1.0184905040628444e-13}, {0.0: 5.879419515587261e-13, 1.0: 9.146676437663704e-13}, {0.0: 3.891579217994859e-16, 1.0: 2.196206927842162e-16}, {0.0: 1.0202791904971737e-12, 1.0: 5.381549034682991e-13}, {0.0: 1.2304043365712309e-14, 1.0: 1.7901537578773558e-13}, {0.0: 3.7485178249275865e-14, 1.0: 6.858710455482755e-14}, {0.0: 2.1886444159652868e-14, 1.0: 1.5558932271749333e-13}, {0.0: 6.402421128962431e-15, 1.0: 7.478624624618332e-14}, {0.0: 2.204989173782493e-12, 1.0: 1.524005156740296e-13}, {0.0: 4.371076660968524e-13, 1.0: 1.304336546845864e-13}, {0.0: 1.92813257241034e-12, 1.0: 5.775345760729557e-13}, {0.0: 1.0768907091716626e-12, 1.0: 3.4441622773576775e-13}, {0.0: 1.1271937822668124e-14, 1.0: 1.6980923255986713e-13}, {0.0: 1.486096424087269e-12, 1.0: 2.2202849876599645e-13}, {0.0: 3.651816470139995e-12, 1.0: 1.84662116451374e-13}, {0.0: 4.803150580447528e-17, 1.0: 2.7755241744401347e-14}, {0.0: 3.511514147422572e-14, 1.0: 5.915761169128228e-13}, {0.0: 6.985988130324864e-14, 1.0: 1.0726793622992694e-13}, {0.0: 3.475837773068397e-13, 1.0: 5.930410119548957e-13}, {0.0: 8.80335142403434e-15, 1.0: 2.744329992228e-13}, {0.0: 4.169966680460465e-12, 1.0: 8.424872899923129e-13}, {0.0: 5.648554420844888e-12, 1.0: 7.686048487733687e-13}, {0.0: 9.784087781978655e-13, 1.0: 2.4327004371107244e-13}, {0.0: 3.1862630447896062e-12, 1.0: 1.1563721413836848e-13}]\n"
     ]
    }
   ],
   "source": [
    "# Example of Naive Bayes implemented from Scratch in Python\n",
    "import csv\n",
    "import random\n",
    "import math\n",
    "import matplotlib.pyplot as plt\n",
    "\n",
    "def loadCsv(filename):\n",
    "\tlines = csv.reader(open(filename, \"rb\"))\n",
    "\tdataset = list(lines)\n",
    "\tfor i in range(len(dataset)):\n",
    "\t\tdataset[i] = [float(x) for x in dataset[i]]\n",
    "\treturn dataset\n",
    "\n",
    "def splitDataset(dataset, splitRatio):\n",
    "\ttrainSize = int(len(dataset) * splitRatio)\n",
    "\ttrainSet = []\n",
    "\tcopy = list(dataset)\n",
    "\twhile len(trainSet) < trainSize:\n",
    "\t\tindex = random.randrange(len(copy))\n",
    "\t\ttrainSet.append(copy.pop(index))\n",
    "\treturn [trainSet, copy]\n",
    "\n",
    "def separateByClass(dataset):\n",
    "\tseparated = {}\n",
    "\tfor i in range(len(dataset)):\n",
    "\t\tvector = dataset[i]\n",
    "\t\tif (vector[-1] not in separated):\n",
    "\t\t\tseparated[vector[-1]] = []\n",
    "\t\tseparated[vector[-1]].append(vector)\n",
    "\treturn separated\n",
    "\n",
    "def mean(numbers):\n",
    "\treturn sum(numbers)/float(len(numbers))\n",
    "\n",
    "def stdev(numbers):\n",
    "\tavg = mean(numbers)\n",
    "\tvariance = sum([pow(x-avg,2) for x in numbers])/float(len(numbers)-1)\n",
    "\treturn math.sqrt(variance)\n",
    "\n",
    "def summarize(dataset):\n",
    "\tsummaries = [(mean(attribute), stdev(attribute)) for attribute in zip(*dataset)]\n",
    "\tdel summaries[-1]\n",
    "\treturn summaries\n",
    "\n",
    "def summarizeByClass(dataset):\n",
    "\tseparated = separateByClass(dataset)\n",
    "\tsummaries = {}\n",
    "\tfor classValue, instances in separated.iteritems():\n",
    "\t\tsummaries[classValue] = summarize(instances)\n",
    "\treturn summaries\n",
    "\n",
    "def calculateProbability(x, mean, stdev):\n",
    "\texponent = math.exp(-(math.pow(x-mean,2)/(2*math.pow(stdev,2))))\n",
    "\treturn (1 / (math.sqrt(2*math.pi) * stdev)) * exponent\n",
    "\n",
    "def calculateClassProbabilities(summaries, inputVector):\n",
    "\tprobabilities = {}\n",
    "\tfor classValue, classSummaries in summaries.iteritems():\n",
    "\t\tprobabilities[classValue] = 1\n",
    "\t\tfor i in range(len(classSummaries)):\n",
    "\t\t\tmean, stdev = classSummaries[i]\n",
    "\t\t\tx = inputVector[i]\n",
    "\t\t\tprobabilities[classValue] *= calculateProbability(x, mean, stdev)\n",
    "\treturn probabilities\n",
    "\t\t\t\n",
    "def predict(summaries, inputVector):\n",
    "\tprobabilities = calculateClassProbabilities(summaries, inputVector)\n",
    "\tbestLabel, bestProb = None, -1\n",
    "\tfor classValue, probability in probabilities.iteritems():\n",
    "\t\tif bestLabel is None or probability > bestProb:\n",
    "\t\t\tbestProb = probability\n",
    "\t\t\tbestLabel = classValue\n",
    "\treturn bestLabel\n",
    "\n",
    "def getPredictions(summaries, testSet):\n",
    "\tpredictions = []\n",
    "\tfor i in range(len(testSet)):\n",
    "\t\tresult = predict(summaries, testSet[i])\n",
    "\t\tpredictions.append(result)\n",
    "\treturn predictions\n",
    "\n",
    "def getProbabilities(summaries, testSet):\n",
    "\tpredictions = []\n",
    "\tfor i in range(len(testSet)):\n",
    "\t\tresult = calculateClassProbabilities(summaries, testSet[i])\n",
    "\t\tpredictions.append(result)\n",
    "\treturn predictions\n",
    "\n",
    "def getAccuracy(testSet, predictions):\n",
    "\tcorrect = 0\n",
    "\tfor i in range(len(testSet)):\n",
    "\t\tif testSet[i][-1] == predictions[i]:\n",
    "\t\t\tcorrect += 1\n",
    "\treturn (correct/float(len(testSet))) * 100.0\n",
    "\n",
    "def main():\n",
    "    filename = 'pima-indians-diabetes-data.csv'\n",
    "    splitRatio = 0.67\n",
    "    dataset = loadCsv(filename)\n",
    "    trainingSet, testSet = splitDataset(dataset, splitRatio)\n",
    "    print('Split {0} rows into train={1} and test={2} rows').format(len(dataset), len(trainingSet), len(testSet))\n",
    "    # prepare model\n",
    "    summaries = summarizeByClass(trainingSet)\n",
    "    # test model\n",
    "    predictions = getPredictions(summaries, testSet)\n",
    "    probabilities = getProbabilities(summaries, testSet)\n",
    "    accuracy = getAccuracy(testSet, predictions)\n",
    "    print('Accuracy: {0}%').format(accuracy)\n",
    "    print probabilities\n",
    "main()"
   ]
  },
  {
   "cell_type": "code",
   "execution_count": 101,
   "metadata": {
    "collapsed": false
   },
   "outputs": [
    {
     "name": "stdout",
     "output_type": "stream",
     "text": [
      "Split 768 rows into train=514 and test=254 rows\n",
      "Accuracy: 100.0%\n",
      "0.000613012124813\n",
      "0.0335439675464\n",
      "[0.012607611139157067, 0.03333908663135438, 0.03351211721125657, 0.0032814596978605276, 0.03290180100966713, 0.033543967546386014, 0.02907706863332204, 0.021247859331224053, 0.0046503284939702376, 0.030309433958466362, 0.02078864754511945, 0.033543967546386014, 0.007439757144393006, 0.021247859331224053, 0.03224128560398044, 0.03333908663135438, 0.02619849415367057, 0.02907706863332204, 0.030309433958466362, 0.027306225949859934, 0.02769810917782115, 0.02460533269935501, 0.021247859331224053, 0.03274589440304311, 0.03202760108325996, 0.02907706863332204, 0.02769810917782115, 0.024165208515657902, 0.02460533269935501, 0.02907706863332204, 0.01953656520215092, 0.03202760108325996, 0.02619849415367057, 0.02999436237669548, 0.03110417377394416, 0.02619849415367057, 0.02294609880777888, 0.0018445589095506074, 0.03224128560398044, 0.021247859331224053, 0.030309433958466362, 0.03110417377394416, 0.021247859331224053, 0.01953656520215092, 0.03351211721125657, 0.03202760108325996, 0.03274589440304311, 0.01953656520215092, 0.021247859331224053, 0.017384761915126702, 0.02078864754511945, 0.02907706863332204, 0.021247859331224053, 0.0313712436328402, 0.03274589440304311, 0.03274589440304311, 0.02769810917782115, 0.017384761915126702, 0.01953656520215092, 0.02907706863332204, 0.028720189695928204, 0.0027274001137297375, 0.03290180100966713, 0.02619849415367057, 0.0313712436328402, 0.030309433958466362, 0.02907706863332204, 0.02907706863332204, 0.0027274001137297375, 0.02460533269935501, 0.03110417377394416, 0.02619849415367057, 0.027306225949859934, 0.01953656520215092, 0.02460533269935501, 0.02769810917782115, 0.03333908663135438, 0.021247859331224053, 0.02294609880777888, 0.02294609880777888, 0.025778803760737587, 0.02907706863332204, 0.02619849415367057, 0.02249287857705959, 0.01953656520215092, 0.03224128560398044, 0.0015009092212053584, 0.033244209379404116, 0.02619849415367057, 0.02460533269935501, 0.01953656520215092, 0.028720189695928204, 0.01953656520215092, 0.02294609880777888, 0.0046503284939702376, 0.033543967546386014, 0.0009728778914776867, 0.030309433958466362, 0.02460533269935501, 0.003920234087341106, 0.02619849415367057, 0.033244209379404116, 0.030309433958466362, 0.01953656520215092, 0.024165208515657902, 0.02769810917782115, 0.030309433958466362, 0.024165208515657902, 0.02460533269935501, 0.03202760108325996, 0.021247859331224053, 0.021247859331224053, 0.0046503284939702376, 0.014132470268909956, 0.021247859331224053, 0.01953656520215092, 0.030309433958466362, 0.0313712436328402, 0.0015009092212053584, 0.0006130121248127979, 0.01953656520215092, 0.021247859331224053, 0.02078864754511945, 0.01953656520215092, 0.01953656520215092, 0.003920234087341106, 0.03333908663135438, 0.033244209379404116, 0.02460533269935501, 0.021247859331224053, 0.033244209379404116, 0.003920234087341106, 0.030309433958466362, 0.01953656520215092, 0.03290180100966713, 0.02619849415367057, 0.033244209379404116, 0.02769810917782115, 0.02999436237669548, 0.030309433958466362, 0.030309433958466362, 0.021247859331224053, 0.02907706863332204, 0.024165208515657902, 0.0313712436328402, 0.027306225949859934, 0.030309433958466362, 0.02460533269935501, 0.033543967546386014, 0.02769810917782115, 0.02619849415367057, 0.03110417377394416, 0.0018445589095506074, 0.02769810917782115, 0.03202760108325996, 0.03351211721125657, 0.02619849415367057, 0.03110417377394416, 0.012607611139157067, 0.02460533269935501, 0.03290180100966713, 0.030309433958466362, 0.025778803760737587, 0.021247859331224053, 0.02619849415367057, 0.02999436237669548, 0.03110417377394416, 0.033244209379404116, 0.01953656520215092, 0.008579010758260628, 0.011167969919069012, 0.027306225949859934, 0.02769810917782115, 0.02078864754511945, 0.01953656520215092, 0.03290180100966713, 0.021247859331224053, 0.02294609880777888, 0.03333908663135438, 0.024165208515657902, 0.02907706863332204, 0.00547749473678271, 0.030309433958466362, 0.01953656520215092, 0.03202760108325996, 0.007439757144393006, 0.02907706863332204, 0.021247859331224053, 0.01953656520215092, 0.019078056870042177, 0.02999436237669548, 0.02294609880777888, 0.033244209379404116, 0.01953656520215092, 0.01953656520215092, 0.02907706863332204, 0.025778803760737587, 0.009822959902116775, 0.027306225949859934, 0.02619849415367057, 0.02078864754511945, 0.02249287857705959, 0.021247859331224053, 0.03274589440304311, 0.02619849415367057, 0.03274589440304311, 0.012607611139157067, 0.02294609880777888, 0.02460533269935501, 0.030309433958466362, 0.030309433958466362, 0.01953656520215092, 0.01953656520215092, 0.03351211721125657, 0.015730048482759718, 0.03333908663135438, 0.02460533269935501, 0.012607611139157067, 0.021247859331224053, 0.030309433958466362, 0.021247859331224053, 0.027306225949859934, 0.02907706863332204, 0.007439757144393006, 0.028720189695928204, 0.02460533269935501, 0.02078864754511945, 0.02619849415367057, 0.02907706863332204, 0.02294609880777888, 0.02294609880777888, 0.024165208515657902, 0.021247859331224053, 0.009822959902116775, 0.02907706863332204, 0.02294609880777888, 0.028720189695928204, 0.01953656520215092, 0.00547749473678271, 0.009822959902116775, 0.01953656520215092, 0.025778803760737587, 0.021247859331224053, 0.021247859331224053, 0.02460533269935501, 0.021247859331224053, 0.008579010758260628, 0.030309433958466362, 0.03333908663135438, 0.03274589440304311, 0.021247859331224053, 0.030309433958466362, 0.0015009092212053584, 0.017384761915126702]\n"
     ]
    }
   ],
   "source": [
    "# Example of Naive Bayes implemented from Scratch in Python\n",
    "import csv\n",
    "import random\n",
    "import math\n",
    "import matplotlib.pyplot as plt\n",
    "import numpy as np\n",
    "\n",
    "def loadCsv(filename):\n",
    "\tlines = csv.reader(open(filename, \"rb\"))\n",
    "\tdataset = list(lines)\n",
    "\tfor i in range(len(dataset)):\n",
    "\t\tdataset[i] = [float(x) for x in dataset[i]]\n",
    "\treturn dataset\n",
    "\n",
    "def splitDataset(dataset, splitRatio):\n",
    "\ttrainSize = int(len(dataset) * splitRatio)\n",
    "\ttrainSet = []\n",
    "\tcopy = list(dataset)\n",
    "\twhile len(trainSet) < trainSize:\n",
    "\t\tindex = random.randrange(len(copy))\n",
    "\t\ttrainSet.append(copy.pop(index))\n",
    "\treturn [trainSet, copy]\n",
    "\n",
    "def separateByClass(dataset):\n",
    "\tseparated = {}\n",
    "\tfor i in range(len(dataset)):\n",
    "\t\tvector = dataset[i]\n",
    "\t\tif (vector[-1] not in separated):\n",
    "\t\t\tseparated[vector[-1]] = []\n",
    "\t\tseparated[vector[-1]].append(vector)\n",
    "\treturn separated\n",
    "\n",
    "def mean(numbers):\n",
    "\treturn sum(numbers)/float(len(numbers))\n",
    "\n",
    "def stdev(numbers):\n",
    "\tavg = mean(numbers)\n",
    "\tvariance = sum([pow(x-avg,2) for x in numbers])/float(len(numbers)-1)\n",
    "\treturn math.sqrt(variance)\n",
    "\n",
    "def summarize(dataset):\n",
    "\tsummaries = [(mean(attribute), stdev(attribute)) for attribute in zip(*dataset)]\n",
    "\tdel summaries[-1]\n",
    "\treturn summaries\n",
    "\n",
    "def summarizeByClass(dataset):\n",
    "\tseparated = separateByClass(dataset)\n",
    "\tsummaries = {}\n",
    "\tfor classValue, instances in separated.iteritems():\n",
    "\t\tsummaries[classValue] = summarize(instances)\n",
    "\treturn summaries\n",
    "\n",
    "def calculateProbability(x, mean, stdev):\n",
    "\texponent = math.exp(-(math.pow(x-mean,2)/(2*math.pow(stdev,2))))\n",
    "\treturn (1 / (math.sqrt(2*math.pi) * stdev)) * exponent\n",
    "\n",
    "def calculateClassProbabilities(summaries, inputVector):\n",
    "\tprobabilities = {}\n",
    "\tfor classValue, classSummaries in summaries.iteritems():\n",
    "\t\tprobabilities[classValue] = 1\n",
    "\t\tfor i in range(len(classSummaries)):\n",
    "\t\t\tmean, stdev = classSummaries[i]\n",
    "\t\t\tx = inputVector[i]\n",
    "\t\t\tprobabilities[classValue] *= calculateProbability(x, mean, stdev)\n",
    "\treturn probabilities\n",
    "\t\t\t\n",
    "    \n",
    "def calculateClassProbability(summaries, inputVector):\n",
    "\tprobabilities = {}\n",
    "\tfor classValue, classSummaries in summaries.iteritems():\n",
    "\t\tprobabilities[classValue] = 1\n",
    "\t\tfor i in range(len(classSummaries)):\n",
    "\t\t\tmean, stdev = classSummaries[i]\n",
    "\t\t\tx = inputVector[i]\n",
    "\t\t\tprobabilities= calculateProbability(x, mean, stdev)\n",
    "\treturn probabilities\n",
    "\t\t\t\n",
    "    \n",
    "def getProbabilities(summaries, testSet):\n",
    "\tpredictions = []\n",
    "\tfor i in range(len(testSet)):\n",
    "\t\tresult = calculateClassProbability(summaries, testSet[i])\n",
    "\t\tpredictions.append(result)\n",
    "\treturn predictions\n",
    "    \n",
    "def predict(summaries, inputVector):\n",
    "\tprobabilities = calculateClassProbabilities(summaries, inputVector)\n",
    "\tbestLabel, bestProb = None, -1\n",
    "\tfor classValue, probability in probabilities.iteritems():\n",
    "\t\tif bestLabel is None or probability > bestProb:\n",
    "\t\t\tbestProb = probability\n",
    "\t\t\tbestLabel = classValue\n",
    "\treturn bestLabel\n",
    "\n",
    "def getPredictions(summaries, testSet):\n",
    "\tpredictions = []\n",
    "\tfor i in range(len(testSet)):\n",
    "\t\tresult = predict(summaries, testSet[i])\n",
    "\t\tpredictions.append(result)\n",
    "\treturn predictions\n",
    "\n",
    "def getAccuracy(testSet, predictions):\n",
    "\tcorrect = 0\n",
    "\tfor i in range(len(testSet)):\n",
    "\t\tif testSet[i][-1] == predictions[i]:\n",
    "\t\t\tcorrect += 1\n",
    "\treturn (correct/float(len(testSet))) * 100.0\n",
    "\n",
    "def main():\n",
    "    filename = 'data-test.csv'\n",
    "    splitRatio = 0.67\n",
    "    dataset = loadCsv(filename)\n",
    "    trainingSet, testSet = splitDataset(dataset, splitRatio)\n",
    "    print('Split {0} rows into train={1} and test={2} rows').format(len(dataset), len(trainingSet), len(testSet))\n",
    "    # prepare model\n",
    "    summaries = summarizeByClass(trainingSet)\n",
    "    # test model\n",
    "    predictions = getPredictions(summaries, testSet)\n",
    "    probabilities = getProbabilities(summaries, testSet)\n",
    "    accuracy = getAccuracy(testSet, predictions)\n",
    "    print('Accuracy: {0}%').format(accuracy)\n",
    "    print min(probabilities)\n",
    "    print max(probabilities)\n",
    "    print probabilities\n",
    "    #plt.hist(probabilities)\n",
    "    #plt.show()\n",
    "main()"
   ]
  },
  {
   "cell_type": "code",
   "execution_count": 109,
   "metadata": {
    "collapsed": false
   },
   "outputs": [
    {
     "name": "stdout",
     "output_type": "stream",
     "text": [
      "Split 768 rows into train=514 and test=254 rows\n"
     ]
    }
   ],
   "source": [
    "filename = 'data-test.csv'\n",
    "splitRatio = 0.67\n",
    "dataset = loadCsv(filename)\n",
    "trainingSet, testSet = splitDataset(dataset, splitRatio)\n",
    "print('Split {0} rows into train={1} and test={2} rows').format(len(dataset), len(trainingSet), len(testSet))"
   ]
  },
  {
   "cell_type": "code",
   "execution_count": 113,
   "metadata": {
    "collapsed": false
   },
   "outputs": [
    {
     "name": "stdout",
     "output_type": "stream",
     "text": [
      "Accuracy: 100.0%\n",
      "0.000187988456662\n",
      "0.0336260773981\n",
      "514\n"
     ]
    }
   ],
   "source": [
    "# prepare model\n",
    "summaries = summarizeByClass(trainingSet)\n",
    "# test model\n",
    "initialprobabilities = getProbabilities(summaries, trainingSet)\n",
    "print('Accuracy: {0}%').format(accuracy)\n",
    "print min(initialprobabilities)\n",
    "print max(initialprobabilities)\n",
    "print len(initialprobabilities)\n",
    "#plt.hist(probabilities)\n",
    "#plt.show()"
   ]
  },
  {
   "cell_type": "code",
   "execution_count": 127,
   "metadata": {
    "collapsed": false
   },
   "outputs": [
    {
     "name": "stdout",
     "output_type": "stream",
     "text": [
      "0.0187997629886\n"
     ]
    },
    {
     "data": {
      "text/plain": [
       "3.0"
      ]
     },
     "execution_count": 127,
     "metadata": {},
     "output_type": "execute_result"
    }
   ],
   "source": [
    "import numpy as np\n",
    "threshold = np.percentile(initialprobabilities, 15) # return 50th percentile, e.g median.\n",
    "print threshold\n",
    "3.0"
   ]
  },
  {
   "cell_type": "code",
   "execution_count": 128,
   "metadata": {
    "collapsed": false
   },
   "outputs": [
    {
     "data": {
      "text/plain": [
       "0.7992125984251969"
      ]
     },
     "execution_count": 128,
     "metadata": {},
     "output_type": "execute_result"
    }
   ],
   "source": [
    "testprobabilities = getProbabilities(summaries, testSet)\n",
    "positiveclass = []\n",
    "for i in range(len(testprobabilities)) :\n",
    "    if testprobabilities[i] > threshold:\n",
    "        positiveclass.append(1)\n",
    "    else:\n",
    "        positiveclass.append(0)\n",
    "\n",
    "positivepercentage = float(sum(positiveclass)) / len(positiveclass)\n",
    "positivepercentage"
   ]
  },
  {
   "cell_type": "code",
   "execution_count": null,
   "metadata": {
    "collapsed": true
   },
   "outputs": [],
   "source": []
  },
  {
   "cell_type": "code",
   "execution_count": 121,
   "metadata": {
    "collapsed": false
   },
   "outputs": [
    {
     "name": "stdout",
     "output_type": "stream",
     "text": [
      "45\n"
     ]
    }
   ],
   "source": [
    "a = range(10)\n",
    "# [0,1,2,3,4,5,6,7,8,9]\n",
    "b = sum(a)\n",
    "print b\n",
    "# prints 45"
   ]
  },
  {
   "cell_type": "code",
   "execution_count": null,
   "metadata": {
    "collapsed": true
   },
   "outputs": [],
   "source": []
  }
 ],
 "metadata": {
  "kernelspec": {
   "display_name": "Python 2",
   "language": "python",
   "name": "python2"
  },
  "language_info": {
   "codemirror_mode": {
    "name": "ipython",
    "version": 2
   },
   "file_extension": ".py",
   "mimetype": "text/x-python",
   "name": "python",
   "nbconvert_exporter": "python",
   "pygments_lexer": "ipython2",
   "version": "2.7.11"
  }
 },
 "nbformat": 4,
 "nbformat_minor": 0
}
