{
 "cells": [
  {
   "cell_type": "code",
   "execution_count": 1,
   "metadata": {
    "collapsed": true
   },
   "outputs": [],
   "source": [
    "import numpy as np\n",
    "import matplotlib.pyplot as plt\n",
    "import matplotlib.font_manager\n",
    "from sklearn import svm\n",
    "import csv\n",
    "from __future__ import division\n",
    "\n",
    "%matplotlib inline"
   ]
  },
  {
   "cell_type": "code",
   "execution_count": null,
   "metadata": {
    "collapsed": true
   },
   "outputs": [],
   "source": [
    "####### SCHEDULED CASTE #######"
   ]
  },
  {
   "cell_type": "code",
   "execution_count": 2,
   "metadata": {
    "collapsed": false
   },
   "outputs": [],
   "source": [
    "from numpy import genfromtxt\n",
    "trainingSet = genfromtxt('SC_import_north_osvm.csv', delimiter=',')\n",
    "testSet = genfromtxt('SC_import_south_osvm.csv', delimiter=',')"
   ]
  },
  {
   "cell_type": "code",
   "execution_count": 3,
   "metadata": {
    "collapsed": true
   },
   "outputs": [],
   "source": [
    "# fit the model\n",
    "clf = svm.OneClassSVM(nu=0.1, kernel=\"rbf\")\n",
    "clf.fit(trainingSet)\n",
    "y_pred_train = clf.predict(trainingSet)\n",
    "y_pred_test = clf.predict(testSet)\n",
    "n_error_train = y_pred_train[y_pred_train == -1].size\n",
    "n_error_test = y_pred_test[y_pred_test == -1].size\n",
    "percentage_error_train = float(n_error_train) / y_pred_train.size\n",
    "percentage_error_test = float(n_error_test) / y_pred_test.size"
   ]
  },
  {
   "cell_type": "code",
   "execution_count": 4,
   "metadata": {
    "collapsed": false
   },
   "outputs": [
    {
     "name": "stdout",
     "output_type": "stream",
     "text": [
      "45\n",
      "50\n",
      "0.0982532751092\n",
      "0.259067357513\n"
     ]
    }
   ],
   "source": [
    "print n_error_train\n",
    "print n_error_test\n",
    "print percentage_error_train\n",
    "print percentage_error_test"
   ]
  },
  {
   "cell_type": "code",
   "execution_count": 11,
   "metadata": {
    "collapsed": false
   },
   "outputs": [
    {
     "data": {
      "image/png": "[encoded data removed]",
      "text/plain": [
       "<matplotlib.figure.Figure at 0x7e231f0>"
      ]
     },
     "metadata": {},
     "output_type": "display_data"
    }
   ],
   "source": [
    "#testing the sensitivity\n",
    "#set sensitivity test for threshold between 0-20%\n",
    "nuparameter = np.arange(0.01, 0.21, 0.01)\n",
    "nuparameter\n",
    "\n",
    "percentage_error_train_list = []\n",
    "percentage_error_test_list = []\n",
    "for i in nuparameter:\n",
    "    clf = svm.OneClassSVM(nu= i , kernel=\"rbf\")\n",
    "    clf.fit(trainingSet)\n",
    "    y_pred_train = clf.predict(trainingSet)\n",
    "    y_pred_test = clf.predict(testSet)\n",
    "    n_error_train = y_pred_train[y_pred_train == -1].size\n",
    "    n_error_test = y_pred_test[y_pred_test == -1].size\n",
    "    percentage_error_train = n_error_train / y_pred_train.size\n",
    "    percentage_error_test = n_error_test / y_pred_test.size\n",
    "    percentage_error_train_list.append(percentage_error_train)\n",
    "    percentage_error_test_list.append(percentage_error_test)\n",
    "    \n",
    "    \n",
    "testdataset  = plt.scatter(nuparameter, percentage_error_test_list, marker = 'o', color= 'r')\n",
    "traningdataset = plt.scatter(nuparameter, percentage_error_train_list, marker = 'x')\n",
    "\n",
    "plt.legend((testdataset, traningdataset),\n",
    "           ('Test Dataset', 'Training Dataset'),\n",
    "           scatterpoints=1,\n",
    "           loc='lower left',\n",
    "           ncol=3,\n",
    "           fontsize=8)\n",
    "    \n",
    "plt.xlabel('Nu Parameter', fontsize=16)\n",
    "plt.ylabel('Percentage Error', fontsize=16)\n",
    "plt.show()"
   ]
  },
  {
   "cell_type": "code",
   "execution_count": 12,
   "metadata": {
    "collapsed": true
   },
   "outputs": [],
   "source": [
    "####### SCHEDULED CASTE #######"
   ]
  },
  {
   "cell_type": "code",
   "execution_count": 13,
   "metadata": {
    "collapsed": true
   },
   "outputs": [],
   "source": [
    "from numpy import genfromtxt\n",
    "trainingSet = genfromtxt('ST_import_north_osvm.csv', delimiter=',')\n",
    "testSet = genfromtxt('ST_import_south_osvm.csv', delimiter=',')"
   ]
  },
  {
   "cell_type": "code",
   "execution_count": 14,
   "metadata": {
    "collapsed": true
   },
   "outputs": [],
   "source": [
    "# fit the model\n",
    "clf = svm.OneClassSVM(nu=0.1, kernel=\"rbf\")\n",
    "clf.fit(trainingSet)\n",
    "y_pred_train = clf.predict(trainingSet)\n",
    "y_pred_test = clf.predict(testSet)\n",
    "n_error_train = y_pred_train[y_pred_train == -1].size\n",
    "n_error_test = y_pred_test[y_pred_test == -1].size\n",
    "percentage_error_train = n_error_train / y_pred_train.size\n",
    "percentage_error_test = n_error_test / y_pred_test.size"
   ]
  },
  {
   "cell_type": "code",
   "execution_count": 15,
   "metadata": {
    "collapsed": false
   },
   "outputs": [
    {
     "name": "stdout",
     "output_type": "stream",
     "text": [
      "38\n",
      "41\n",
      "0.0969387755102\n",
      "0.275167785235\n"
     ]
    }
   ],
   "source": [
    "print n_error_train\n",
    "print n_error_test\n",
    "print percentage_error_train\n",
    "print percentage_error_test"
   ]
  },
  {
   "cell_type": "code",
   "execution_count": 17,
   "metadata": {
    "collapsed": false
   },
   "outputs": [
    {
     "data": {
      "image/png": "[encoded data removed]",
      "text/plain": [
       "<matplotlib.figure.Figure at 0x7866070>"
      ]
     },
     "metadata": {},
     "output_type": "display_data"
    }
   ],
   "source": [
    "#testing the sensitivity\n",
    "#set sensitivity test for threshold between 0-20%\n",
    "nuparameter = np.arange(0.01, 0.21, 0.01)\n",
    "nuparameter\n",
    "\n",
    "percentage_error_train_list = []\n",
    "percentage_error_test_list = []\n",
    "for i in nuparameter:\n",
    "    clf = svm.OneClassSVM(nu= i , kernel=\"rbf\")\n",
    "    clf.fit(trainingSet)\n",
    "    y_pred_train = clf.predict(trainingSet)\n",
    "    y_pred_test = clf.predict(testSet)\n",
    "    n_error_train = y_pred_train[y_pred_train == -1].size\n",
    "    n_error_test = y_pred_test[y_pred_test == -1].size\n",
    "    percentage_error_train = n_error_train / y_pred_train.size\n",
    "    percentage_error_test = n_error_test / y_pred_test.size\n",
    "    percentage_error_train_list.append(percentage_error_train)\n",
    "    percentage_error_test_list.append(percentage_error_test)\n",
    "    \n",
    "    \n",
    "testdataset  = plt.scatter(nuparameter, percentage_error_test_list, marker = 'o', color= 'r')\n",
    "traningdataset = plt.scatter(nuparameter, percentage_error_train_list, marker = 'x')\n",
    "\n",
    "plt.legend((testdataset, traningdataset),\n",
    "           ('Test Dataset', 'Training Dataset'),\n",
    "           scatterpoints=1,\n",
    "           loc='lower left',\n",
    "           ncol=3,\n",
    "           fontsize=8)\n",
    "    \n",
    "plt.xlabel('Nu Parameter', fontsize=16)\n",
    "plt.ylabel('Percentage Error', fontsize=16)\n",
    "plt.show()"
   ]
  },
  {
   "cell_type": "code",
   "execution_count": null,
   "metadata": {
    "collapsed": true
   },
   "outputs": [],
   "source": []
  }
 ],
 "metadata": {
  "kernelspec": {
   "display_name": "Python 2",
   "language": "python",
   "name": "python2"
  },
  "language_info": {
   "codemirror_mode": {
    "name": "ipython",
    "version": 2
   },
   "file_extension": ".py",
   "mimetype": "text/x-python",
   "name": "python",
   "nbconvert_exporter": "python",
   "pygments_lexer": "ipython2",
   "version": "2.7.11"
  }
 },
 "nbformat": 4,
 "nbformat_minor": 0
}
